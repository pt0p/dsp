{
  "cells": [
    {
      "cell_type": "code",
      "execution_count": null,
      "metadata": {
        "id": "bsGrzQHfKnuT"
      },
      "outputs": [],
      "source": [
        "import random\n",
        "import matplotlib.pyplot as plt\n",
        "import os\n",
        "from tqdm import tqdm\n",
        "import pickle\n",
        "import pandas as pd\n",
        "import numpy as np\n",
        "import soundfile as sf\n",
        "import torch.nn.functional as F\n",
        "import torch.nn as nn\n",
        "import torch\n",
        "import torch.optim as optim\n",
        "from torch.utils.data import DataLoader\n",
        "from sklearn.metrics import accuracy_score\n",
        "from torch.utils.data import Dataset\n",
        "import torchaudio\n",
        "import torchvision\n",
        "from torchaudio import transforms\n",
        "from efficientnet_pytorch import EfficientNet\n",
        "from sklearn.model_selection import train_test_split\n",
        "from sklearn.metrics import f1_score"
      ]
    },
    {
      "cell_type": "code",
      "execution_count": null,
      "metadata": {
        "id": "-jWN_sjXV2Ub"
      },
      "outputs": [],
      "source": [
        "random.seed(42)\n",
        "np.random.seed(42)\n",
        "torch.manual_seed(42)\n",
        "torch.cuda.manual_seed(42)\n",
        "torch.backends.cudnn.deterministic = True"
      ]
    },
    {
      "cell_type": "code",
      "execution_count": null,
      "metadata": {
        "id": "2g1WUkM32k01"
      },
      "outputs": [],
      "source": [
        "train_fld = './data/audio_train/train/'\n",
        "train_fname = 'train.csv'\n",
        "test_fld = './data/audio_test/test/'\n",
        "test_fname = 'sample_submission.csv'\n"
      ]
    },
    {
      "cell_type": "code",
      "execution_count": null,
      "metadata": {
        "id": "Rtea9Khg3Uhw"
      },
      "outputs": [],
      "source": [
        "train_frame = pd.read_csv(os.path.join('./data',train_fname))\n",
        "test_frame = pd.read_csv(os.path.join('./data',test_fname))\n"
      ]
    },
    {
      "cell_type": "code",
      "execution_count": null,
      "metadata": {
        "id": "9UsMn4XT4Dat"
      },
      "outputs": [],
      "source": [
        "noc = train_frame['label'].nunique()\n",
        "label_to_id = {cl : id for id, cl in enumerate(train_frame['label'].unique())}\n",
        "train_frame['id'] = train_frame['label'].map(label_to_id)"
      ]
    },
    {
      "cell_type": "code",
      "source": [
        "# https://github.com/lukemelas/EfficientNet-PyTorch\n",
        "class BaseLineModel(nn.Module):\n",
        "    def __init__(self, sample_rate = 16000, n_classes = 41):\n",
        "        super().__init__()\n",
        "        self.ms = torchaudio.transforms.MelSpectrogram(sample_rate,n_mels = 64)\n",
        "\n",
        "        self.cnn1 = nn.Conv2d(in_channels = 1, out_channels = 20, kernel_size = 3, padding =1)\n",
        "        self.cnn2 = nn.Conv2d(in_channels = 20, out_channels = 40, kernel_size = 3, padding =1)\n",
        "        self.cnn3 = nn.Conv2d(in_channels = 40, out_channels = 20, kernel_size = 3, padding = 1)\n",
        "        self.cnn4 = nn.Conv2d(in_channels = 20, out_channels = 3, kernel_size = 3, padding = 1)\n",
        "\n",
        "\n",
        "        self.features = EfficientNet.from_pretrained('efficientnet-b0')\n",
        "\n",
        "        self.lin1 = nn.Linear(1000,333)\n",
        "\n",
        "        self.lin2 = nn.Linear(333,111)\n",
        "\n",
        "        self.lin4 = nn.Linear(111,noc)\n",
        "\n",
        "    def forward(self, x):\n",
        "        x = self.ms(x)\n",
        "\n",
        "        x = F.relu(self.cnn1(x))\n",
        "        x = F.relu(self.cnn2(x))\n",
        "        x = F.relu(self.cnn3(x))\n",
        "        x = F.relu(self.cnn4(x))\n",
        "\n",
        "        x = self.features(x)\n",
        "\n",
        "        x = x.view(x.shape[0], -1)\n",
        "        x = F.relu(x)\n",
        "\n",
        "        x = F.relu(self.lin1(x))\n",
        "        x = F.relu(self.lin2(x))\n",
        "        x = self.lin4(x)\n",
        "        return x"
      ],
      "metadata": {
        "id": "1X_5phk5HBhE"
      },
      "execution_count": null,
      "outputs": []
    },
    {
      "cell_type": "code",
      "execution_count": null,
      "metadata": {
        "id": "-PnXPyj5FF1W"
      },
      "outputs": [],
      "source": [
        "def sample_or_pad(wave, wav_len = 32000):\n",
        "    m, n = wave.shape\n",
        "    if n < wav_len:\n",
        "        padded_wav = torch.zeros(1,wav_len)\n",
        "        padded_wav[:, :n] = wave\n",
        "        return padded_wav\n",
        "    elif n > wav_len:\n",
        "        offset = np.random.randint(0, n-wav_len)\n",
        "        sampled_wav = wave[:, offset:offset+wav_len]\n",
        "        return sampled_wav\n",
        "    else:\n",
        "        return wave\n",
        "\n",
        "class EventDetectionDataset(Dataset):\n",
        "    def __init__(self,data_path,x,y = None):\n",
        "        self.x = x\n",
        "        self.y = y\n",
        "        self.data_path = data_path\n",
        "\n",
        "    def __len__(self):\n",
        "        return len(self.x)\n",
        "\n",
        "    def __getitem__(self, idx):\n",
        "        path2wav = os.path.join(self.data_path, self.x[idx])\n",
        "        wave, sample_rate = torchaudio.load(path2wav, normalize = True)\n",
        "        wave = sample_or_pad(wave)\n",
        "\n",
        "        if self.y is not None:\n",
        "            return wave, self.y[idx]\n",
        "        return wave\n"
      ]
    },
    {
      "cell_type": "code",
      "execution_count": null,
      "metadata": {
        "id": "g59bVhd9HDn5"
      },
      "outputs": [],
      "source": [
        "X_t, X_v, y_t, y_v = train_test_split(train_frame['fname'].values, train_frame['id'].values,\n",
        "                                      test_size = 0.2, random_state = 42, stratify = train_frame['id'])\n",
        "train_loader = DataLoader(EventDetectionDataset(os.path.join(train_fld), X_t, y_t),\n",
        "                          batch_size = 41)\n",
        "val_loader = DataLoader(EventDetectionDataset(os.path.join(train_fld), X_v, y_v),\n",
        "                          batch_size = 41)\n",
        "test_loader = DataLoader(EventDetectionDataset(os.path.join(test_fld), test_frame['fname'].values, None),\n",
        "                          batch_size = 41, shuffle = False)"
      ]
    },
    {
      "cell_type": "code",
      "execution_count": null,
      "metadata": {
        "id": "oSnGKDxrIxFh"
      },
      "outputs": [],
      "source": [
        "def eval_model(model, eval_dset):\n",
        "    model.eval()\n",
        "    forecast, true_labs = [], []\n",
        "    with torch.no_grad():\n",
        "        for wavs, labs in tqdm(eval_dset):\n",
        "            wavs,labs = wavs, labs.detach().numpy()\n",
        "            true_labs.append(labs)\n",
        "            outputs = model.forward(wavs)\n",
        "\n",
        "            outputs = outputs.detach().cpu().numpy().argmax(axis = 1)\n",
        "            forecast.append(outputs)\n",
        "    forecast = [x for sublist in forecast for x in sublist]\n",
        "    true_labs = [x for sublist in true_labs for x in sublist]\n",
        "    return f1_score(forecast, true_labs, average = 'macro')"
      ]
    },
    {
      "cell_type": "code",
      "execution_count": null,
      "metadata": {
        "id": "nG5V1h-qJmiq"
      },
      "outputs": [],
      "source": [
        "criterion = nn.CrossEntropyLoss()\n",
        "model = BaseLineModel()\n",
        "lr = 1e-3\n",
        "optimizer = torch.optim.Adam(model.parameters(), lr = lr)"
      ]
    },
    {
      "cell_type": "code",
      "execution_count": null,
      "metadata": {
        "id": "7GMaekgNE8Au"
      },
      "outputs": [],
      "source": [
        "n_epoch = 50\n",
        "best_f1 = 0\n",
        "f1s = []\n",
        "f1s_train = []\n",
        "for epoch in range(n_epoch):\n",
        "    model.train()\n",
        "    for wavs, labs in tqdm(train_loader):\n",
        "        optimizer.zero_grad()\n",
        "        outputs = model(wavs)\n",
        "        loss = criterion(outputs,labs)\n",
        "        loss.backward()\n",
        "        optimizer.step()\n",
        "    f1 = eval_model(model, val_loader)\n",
        "    f1_train = eval_model(model, train_loader)\n",
        "    f1s.append(f1)\n",
        "    f1s_train.append(f1_train)\n",
        "    print('epoch: {}, f1_val: {}, f1_train: {}'.format(epoch, f1, f1_train))\n",
        "    if f1 > best_f1:\n",
        "        best_f1 = f1\n",
        "        torch.save(model.state_dict(),'model.pt')\n",
        "    lr *= 0.95\n",
        "    for param_group in optimizer.param_groups:\n",
        "        param_group['lr'] = lr"
      ]
    },
    {
      "cell_type": "code",
      "execution_count": null,
      "metadata": {
        "id": "mntqaHMPV50U"
      },
      "outputs": [],
      "source": [
        "model = BaseLineModel()\n",
        "model.load_state_dict(torch.load(os.path.join('model.pt')))\n",
        "model.eval()\n",
        "forecast = []\n",
        "with torch.no_grad():\n",
        "    for wavs in tqdm(test_loader):\n",
        "        outputs = model.forward(wavs)\n",
        "        outputs = outputs.detach().numpy().argmax(axis = 1)\n",
        "        forecast.append(outputs)\n",
        "forecast = [x for sublist in forecast for x in sublist]\n",
        "decoder = {label_to_id[i] : i for i in label_to_id}\n",
        "forecast = pd.Series(forecast).map(decoder)\n",
        "test_frame['label'] = forecast\n",
        "test_frame.to_csv('sample_submission.csv', index = None)"
      ]
    }
  ],
  "metadata": {
    "colab": {
      "provenance": []
    },
    "kernelspec": {
      "display_name": "Python 3",
      "language": "python",
      "name": "python3"
    },
    "language_info": {
      "codemirror_mode": {
        "name": "ipython",
        "version": 3
      },
      "file_extension": ".py",
      "mimetype": "text/x-python",
      "name": "python",
      "nbconvert_exporter": "python",
      "pygments_lexer": "ipython3",
      "version": "3.7.7"
    }
  },
  "nbformat": 4,
  "nbformat_minor": 0
}